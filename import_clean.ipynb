{
 "cells": [
  {
   "cell_type": "markdown",
   "id": "ad8f5f45",
   "metadata": {},
   "source": [
    "# Load Data from apple_health_export/ \n",
    "Originally as XML file, want to convert to csv"
   ]
  },
  {
   "cell_type": "code",
   "execution_count": 4,
   "id": "1908993e",
   "metadata": {},
   "outputs": [],
   "source": [
    "# Load needed packages\n",
    "import pandas as pd\n",
    "import xmltodict"
   ]
  },
  {
   "cell_type": "code",
   "execution_count": null,
   "id": "5b6fcacc",
   "metadata": {},
   "outputs": [],
   "source": [
    "# use your own directory, this is where I exported my data\n",
    "data_path = 'apple_health_export/export.xml' \n",
    "\n",
    "# read XML file, convert to a dictionary\n",
    "with open(data_path, 'r') as xml_file:\n",
    "    all_data = xmltodict.parse(xml_file.read())"
   ]
  },
  {
   "cell_type": "code",
   "execution_count": null,
   "id": "4582b8f8",
   "metadata": {},
   "outputs": [],
   "source": [
    "# look at all data available (remember it is in a dictionary)\n",
    "all_data['HealthData'].keys()"
   ]
  },
  {
   "cell_type": "markdown",
   "id": "6526342d",
   "metadata": {},
   "source": [
    "For now, I will just show the steps for cleaning my individual activity summary (acts) and workouts, which I will put into a list, and then pandas dataframe. I will also do so for other records (all), workout, etc. in the future"
   ]
  },
  {
   "cell_type": "code",
   "execution_count": null,
   "id": "30edc0ad",
   "metadata": {},
   "outputs": [],
   "source": [
    "# create a records list for overall health data, put into pandas dataframe\n",
    "records_list = all_data['HealthData']['Record']\n",
    "all_records = pd.DataFrame(records_list)"
   ]
  },
  {
   "cell_type": "code",
   "execution_count": null,
   "id": "aad55516",
   "metadata": {},
   "outputs": [],
   "source": [
    "# activity summary (acts)\n",
    "acts_list = all_data['HealthData']['ActivitySummary']\n",
    "acts_df = pd.DataFrame(acts_list)"
   ]
  },
  {
   "cell_type": "code",
   "execution_count": null,
   "id": "27076eda",
   "metadata": {},
   "outputs": [],
   "source": [
    "# glimpse at data\n",
    "acts_df.head()"
   ]
  },
  {
   "cell_type": "markdown",
   "id": "f7e3055a",
   "metadata": {},
   "source": [
    "# Now that data is imported, I will clean it for easier use "
   ]
  },
  {
   "cell_type": "code",
   "execution_count": 12,
   "id": "670c90a3",
   "metadata": {},
   "outputs": [],
   "source": [
    "## Cleaning \n",
    "\n",
    "# remove special characters from column names \n",
    "acts_df.columns = acts_df.columns.str.replace('@', '')\n",
    "\n",
    "# convert date column to date format\n",
    "acts_df['dateComponents'] = pd.to_datetime(acts_df['dateComponents'])\n",
    "\n",
    "# make sure dates are only within range from 1/2016-recent (4/2022),\n",
    "# this is when I got the apple watch, data is not just from phone\n",
    "acts_df = acts_df[(acts_df['dateComponents'] > '2016-1-1') & (acts_df['dateComponents'] <= '2022-4-1')]\n"
   ]
  },
  {
   "cell_type": "code",
   "execution_count": 13,
   "id": "cbb54b75",
   "metadata": {},
   "outputs": [
    {
     "data": {
      "text/html": [
       "<div>\n",
       "<style scoped>\n",
       "    .dataframe tbody tr th:only-of-type {\n",
       "        vertical-align: middle;\n",
       "    }\n",
       "\n",
       "    .dataframe tbody tr th {\n",
       "        vertical-align: top;\n",
       "    }\n",
       "\n",
       "    .dataframe thead th {\n",
       "        text-align: right;\n",
       "    }\n",
       "</style>\n",
       "<table border=\"1\" class=\"dataframe\">\n",
       "  <thead>\n",
       "    <tr style=\"text-align: right;\">\n",
       "      <th></th>\n",
       "      <th>dateComponents</th>\n",
       "      <th>activeEnergyBurned</th>\n",
       "      <th>activeEnergyBurnedGoal</th>\n",
       "      <th>activeEnergyBurnedUnit</th>\n",
       "      <th>appleMoveTime</th>\n",
       "      <th>appleMoveTimeGoal</th>\n",
       "      <th>appleExerciseTime</th>\n",
       "      <th>appleExerciseTimeGoal</th>\n",
       "      <th>appleStandHours</th>\n",
       "      <th>appleStandHoursGoal</th>\n",
       "    </tr>\n",
       "  </thead>\n",
       "  <tbody>\n",
       "    <tr>\n",
       "      <th>0</th>\n",
       "      <td>2016-01-02</td>\n",
       "      <td>565.0</td>\n",
       "      <td>320</td>\n",
       "      <td>Cal</td>\n",
       "      <td>0</td>\n",
       "      <td>0</td>\n",
       "      <td>49</td>\n",
       "      <td>30</td>\n",
       "      <td>12</td>\n",
       "      <td>12</td>\n",
       "    </tr>\n",
       "    <tr>\n",
       "      <th>1</th>\n",
       "      <td>2016-01-03</td>\n",
       "      <td>805.0</td>\n",
       "      <td>320</td>\n",
       "      <td>Cal</td>\n",
       "      <td>0</td>\n",
       "      <td>0</td>\n",
       "      <td>73</td>\n",
       "      <td>30</td>\n",
       "      <td>12</td>\n",
       "      <td>12</td>\n",
       "    </tr>\n",
       "    <tr>\n",
       "      <th>2</th>\n",
       "      <td>2016-01-04</td>\n",
       "      <td>791.0</td>\n",
       "      <td>350</td>\n",
       "      <td>Cal</td>\n",
       "      <td>0</td>\n",
       "      <td>0</td>\n",
       "      <td>73</td>\n",
       "      <td>30</td>\n",
       "      <td>14</td>\n",
       "      <td>12</td>\n",
       "    </tr>\n",
       "    <tr>\n",
       "      <th>3</th>\n",
       "      <td>2016-01-05</td>\n",
       "      <td>207.0</td>\n",
       "      <td>350</td>\n",
       "      <td>Cal</td>\n",
       "      <td>0</td>\n",
       "      <td>0</td>\n",
       "      <td>5</td>\n",
       "      <td>30</td>\n",
       "      <td>12</td>\n",
       "      <td>12</td>\n",
       "    </tr>\n",
       "    <tr>\n",
       "      <th>4</th>\n",
       "      <td>2016-01-06</td>\n",
       "      <td>617.0</td>\n",
       "      <td>350</td>\n",
       "      <td>Cal</td>\n",
       "      <td>0</td>\n",
       "      <td>0</td>\n",
       "      <td>54</td>\n",
       "      <td>30</td>\n",
       "      <td>13</td>\n",
       "      <td>12</td>\n",
       "    </tr>\n",
       "  </tbody>\n",
       "</table>\n",
       "</div>"
      ],
      "text/plain": [
       "  dateComponents  activeEnergyBurned  activeEnergyBurnedGoal  \\\n",
       "0     2016-01-02               565.0                     320   \n",
       "1     2016-01-03               805.0                     320   \n",
       "2     2016-01-04               791.0                     350   \n",
       "3     2016-01-05               207.0                     350   \n",
       "4     2016-01-06               617.0                     350   \n",
       "\n",
       "  activeEnergyBurnedUnit  appleMoveTime  appleMoveTimeGoal  appleExerciseTime  \\\n",
       "0                    Cal              0                  0                 49   \n",
       "1                    Cal              0                  0                 73   \n",
       "2                    Cal              0                  0                 73   \n",
       "3                    Cal              0                  0                  5   \n",
       "4                    Cal              0                  0                 54   \n",
       "\n",
       "   appleExerciseTimeGoal  appleStandHours  appleStandHoursGoal  \n",
       "0                     30               12                   12  \n",
       "1                     30               12                   12  \n",
       "2                     30               14                   12  \n",
       "3                     30               12                   12  \n",
       "4                     30               13                   12  "
      ]
     },
     "execution_count": 13,
     "metadata": {},
     "output_type": "execute_result"
    }
   ],
   "source": [
    "acts_df.head()"
   ]
  },
  {
   "cell_type": "markdown",
   "id": "4c980655",
   "metadata": {},
   "source": [
    "Now that dates and columns are done, lets look at data types"
   ]
  },
  {
   "cell_type": "code",
   "execution_count": 14,
   "id": "a1fe8b64",
   "metadata": {},
   "outputs": [
    {
     "data": {
      "text/plain": [
       "dateComponents            datetime64[ns]\n",
       "activeEnergyBurned               float64\n",
       "activeEnergyBurnedGoal             int64\n",
       "activeEnergyBurnedUnit            object\n",
       "appleMoveTime                      int64\n",
       "appleMoveTimeGoal                  int64\n",
       "appleExerciseTime                  int64\n",
       "appleExerciseTimeGoal              int64\n",
       "appleStandHours                    int64\n",
       "appleStandHoursGoal                int64\n",
       "dtype: object"
      ]
     },
     "execution_count": 14,
     "metadata": {},
     "output_type": "execute_result"
    }
   ],
   "source": [
    "acts_df.dtypes"
   ]
  },
  {
   "cell_type": "code",
   "execution_count": null,
   "id": "075485bf",
   "metadata": {},
   "outputs": [],
   "source": [
    "# convert the rest of the columns to integers (except for Unit)\n",
    "cols = acts_df.columns\n",
    "acts_df[cols[1:3]] = acts_df[cols[1:3]].apply(pd.to_numeric, errors='coerce')\n",
    "acts_df[cols[4:]] = acts_df[cols[4:]].apply(pd.to_numeric, errors='coerce')\n",
    "\n",
    "# round active energy so it is consistent\n",
    "acts_df = acts_df.round()"
   ]
  },
  {
   "cell_type": "markdown",
   "id": "781447ad",
   "metadata": {},
   "source": [
    "# For more analyses and visualizations, I will also clean the workouts and put into a dataframe"
   ]
  },
  {
   "cell_type": "code",
   "execution_count": null,
   "id": "03f87ec6",
   "metadata": {},
   "outputs": [],
   "source": [
    "# create workouts df\n",
    "workouts_list = all_data['HealthData']['Workout']\n",
    "workout_df = pd.DataFrame(workouts_list)"
   ]
  },
  {
   "cell_type": "code",
   "execution_count": null,
   "id": "414ab466",
   "metadata": {},
   "outputs": [],
   "source": [
    "# look at variables (workout)\n",
    "workout_df.keys()"
   ]
  },
  {
   "cell_type": "code",
   "execution_count": null,
   "id": "12d947cd",
   "metadata": {},
   "outputs": [],
   "source": [
    "# remove special characters from column names \n",
    "all_records.columns = all_records.columns.str.replace('@', '')\n",
    "workout_df.columns = workout_df.columns.str.replace('@', '')"
   ]
  },
  {
   "cell_type": "code",
   "execution_count": null,
   "id": "790b663b",
   "metadata": {},
   "outputs": [],
   "source": [
    "workout_df['workoutActivityType'].unique()\n",
    "\n",
    "# convert/string replace for easier naming\n",
    "workout_df['workoutActivityType'] = workout_df['workoutActivityType'].str.replace('HKWorkoutActivityType', '')"
   ]
  },
  {
   "cell_type": "code",
   "execution_count": null,
   "id": "1a336a82",
   "metadata": {},
   "outputs": [],
   "source": [
    "# What columns do we have to work with? Can decide how to parse data \n",
    "all_records['type'].unique()\n",
    "workout_df['workoutActivityType'].unique()"
   ]
  },
  {
   "cell_type": "code",
   "execution_count": null,
   "id": "8653b777",
   "metadata": {},
   "outputs": [],
   "source": [
    "# convert date column to date format for three columns containing 'date'\n",
    "# make sure dates are only within range from 1/2016-recent (4/2022),\n",
    "dates = ['startDate', 'endDate', 'creationDate'] # list of cols with date in them \n",
    "for cols in dates:\n",
    "    workout_df[cols] = pd.to_datetime(workout_df[cols])\n",
    "    workout_df = workout_df[(workout_df[cols] > '2016-1-1') & (workout_df[cols] <= '2022-4-1')]"
   ]
  },
  {
   "cell_type": "code",
   "execution_count": 17,
   "id": "92942318",
   "metadata": {},
   "outputs": [],
   "source": [
    "# turn creation date to just datetime to use for date info\n",
    "workout_df['creationDate'] = pd.to_datetime(workout_df['creationDate']).dt.date"
   ]
  },
  {
   "cell_type": "code",
   "execution_count": null,
   "id": "5f00b9f3",
   "metadata": {},
   "outputs": [],
   "source": [
    "#drop columns we do not need\n",
    "workout_df = workout_df.drop(columns=['MetadataEntry', 'WorkoutEvent', 'device', 'WorkoutRoute'])"
   ]
  },
  {
   "cell_type": "code",
   "execution_count": null,
   "id": "42f53f30",
   "metadata": {},
   "outputs": [],
   "source": [
    "# look at data types\n",
    "workout_df.dtypes\n",
    "\n",
    "for cols in ['duration', 'totalDistance', 'totalEnergyBurned']:\n",
    "    workout_df[cols] = pd.to_numeric(workout_df[cols], errors='coerce')\n",
    "    \n",
    "# round numeric values so it is consistent\n",
    "workout_df = workout_df.round()"
   ]
  },
  {
   "cell_type": "code",
   "execution_count": 18,
   "id": "bb58b0f6",
   "metadata": {},
   "outputs": [
    {
     "data": {
      "text/html": [
       "<div>\n",
       "<style scoped>\n",
       "    .dataframe tbody tr th:only-of-type {\n",
       "        vertical-align: middle;\n",
       "    }\n",
       "\n",
       "    .dataframe tbody tr th {\n",
       "        vertical-align: top;\n",
       "    }\n",
       "\n",
       "    .dataframe thead th {\n",
       "        text-align: right;\n",
       "    }\n",
       "</style>\n",
       "<table border=\"1\" class=\"dataframe\">\n",
       "  <thead>\n",
       "    <tr style=\"text-align: right;\">\n",
       "      <th></th>\n",
       "      <th>workoutActivityType</th>\n",
       "      <th>duration</th>\n",
       "      <th>durationUnit</th>\n",
       "      <th>totalDistance</th>\n",
       "      <th>totalDistanceUnit</th>\n",
       "      <th>totalEnergyBurned</th>\n",
       "      <th>totalEnergyBurnedUnit</th>\n",
       "      <th>sourceName</th>\n",
       "      <th>sourceVersion</th>\n",
       "      <th>creationDate</th>\n",
       "      <th>startDate</th>\n",
       "      <th>endDate</th>\n",
       "    </tr>\n",
       "  </thead>\n",
       "  <tbody>\n",
       "    <tr>\n",
       "      <th>57</th>\n",
       "      <td>Walking</td>\n",
       "      <td>10.0</td>\n",
       "      <td>min</td>\n",
       "      <td>1.0</td>\n",
       "      <td>mi</td>\n",
       "      <td>49.0</td>\n",
       "      <td>Cal</td>\n",
       "      <td>Rebecca’s Apple Watch</td>\n",
       "      <td>5.1.2</td>\n",
       "      <td>2018-12-14</td>\n",
       "      <td>2018-12-14 21:20:03-04:00</td>\n",
       "      <td>2018-12-14 21:30:27-04:00</td>\n",
       "    </tr>\n",
       "    <tr>\n",
       "      <th>192</th>\n",
       "      <td>Walking</td>\n",
       "      <td>51.0</td>\n",
       "      <td>min</td>\n",
       "      <td>2.0</td>\n",
       "      <td>mi</td>\n",
       "      <td>224.0</td>\n",
       "      <td>Cal</td>\n",
       "      <td>Rebecca’s Apple Watch</td>\n",
       "      <td>5.2.1</td>\n",
       "      <td>2019-08-16</td>\n",
       "      <td>2019-08-16 18:03:36-04:00</td>\n",
       "      <td>2019-08-16 18:54:47-04:00</td>\n",
       "    </tr>\n",
       "    <tr>\n",
       "      <th>323</th>\n",
       "      <td>Cycling</td>\n",
       "      <td>45.0</td>\n",
       "      <td>min</td>\n",
       "      <td>11.0</td>\n",
       "      <td>mi</td>\n",
       "      <td>353.0</td>\n",
       "      <td>Cal</td>\n",
       "      <td>Peloton</td>\n",
       "      <td>19746</td>\n",
       "      <td>2020-09-22</td>\n",
       "      <td>2020-09-19 19:40:52-04:00</td>\n",
       "      <td>2020-09-19 20:25:52-04:00</td>\n",
       "    </tr>\n",
       "    <tr>\n",
       "      <th>37</th>\n",
       "      <td>Elliptical</td>\n",
       "      <td>2.0</td>\n",
       "      <td>min</td>\n",
       "      <td>0.0</td>\n",
       "      <td>mi</td>\n",
       "      <td>19.0</td>\n",
       "      <td>Cal</td>\n",
       "      <td>Rebecca’s Apple Watch</td>\n",
       "      <td>2.1</td>\n",
       "      <td>2016-04-11</td>\n",
       "      <td>2016-04-11 11:09:06-04:00</td>\n",
       "      <td>2016-04-11 11:11:34-04:00</td>\n",
       "    </tr>\n",
       "    <tr>\n",
       "      <th>625</th>\n",
       "      <td>FunctionalStrengthTraining</td>\n",
       "      <td>30.0</td>\n",
       "      <td>min</td>\n",
       "      <td>0.0</td>\n",
       "      <td>mi</td>\n",
       "      <td>193.0</td>\n",
       "      <td>Cal</td>\n",
       "      <td>Peloton</td>\n",
       "      <td>112957</td>\n",
       "      <td>2021-04-09</td>\n",
       "      <td>2021-04-06 21:03:06-04:00</td>\n",
       "      <td>2021-04-06 21:33:35-04:00</td>\n",
       "    </tr>\n",
       "  </tbody>\n",
       "</table>\n",
       "</div>"
      ],
      "text/plain": [
       "            workoutActivityType  duration durationUnit  totalDistance  \\\n",
       "57                      Walking      10.0          min            1.0   \n",
       "192                     Walking      51.0          min            2.0   \n",
       "323                     Cycling      45.0          min           11.0   \n",
       "37                   Elliptical       2.0          min            0.0   \n",
       "625  FunctionalStrengthTraining      30.0          min            0.0   \n",
       "\n",
       "    totalDistanceUnit  totalEnergyBurned totalEnergyBurnedUnit  \\\n",
       "57                 mi               49.0                   Cal   \n",
       "192                mi              224.0                   Cal   \n",
       "323                mi              353.0                   Cal   \n",
       "37                 mi               19.0                   Cal   \n",
       "625                mi              193.0                   Cal   \n",
       "\n",
       "                sourceName sourceVersion creationDate  \\\n",
       "57   Rebecca’s Apple Watch         5.1.2   2018-12-14   \n",
       "192  Rebecca’s Apple Watch         5.2.1   2019-08-16   \n",
       "323                Peloton         19746   2020-09-22   \n",
       "37   Rebecca’s Apple Watch           2.1   2016-04-11   \n",
       "625                Peloton        112957   2021-04-09   \n",
       "\n",
       "                     startDate                    endDate  \n",
       "57   2018-12-14 21:20:03-04:00  2018-12-14 21:30:27-04:00  \n",
       "192  2019-08-16 18:03:36-04:00  2019-08-16 18:54:47-04:00  \n",
       "323  2020-09-19 19:40:52-04:00  2020-09-19 20:25:52-04:00  \n",
       "37   2016-04-11 11:09:06-04:00  2016-04-11 11:11:34-04:00  \n",
       "625  2021-04-06 21:03:06-04:00  2021-04-06 21:33:35-04:00  "
      ]
     },
     "execution_count": 18,
     "metadata": {},
     "output_type": "execute_result"
    }
   ],
   "source": [
    "# quickly view data\n",
    "workout_df.sample(n=5)"
   ]
  },
  {
   "cell_type": "markdown",
   "id": "05538edc",
   "metadata": {},
   "source": [
    "# Now that data is consistent, will write to csv and use from here on out"
   ]
  },
  {
   "cell_type": "code",
   "execution_count": null,
   "id": "38038029",
   "metadata": {},
   "outputs": [],
   "source": [
    "# activity summary\n",
    "acts_df.to_csv(\"data/activitysummary.csv\", index=False)"
   ]
  },
  {
   "cell_type": "code",
   "execution_count": 19,
   "id": "9d75e19f",
   "metadata": {},
   "outputs": [],
   "source": [
    "# workout\n",
    "workout_df.to_csv(\"data/workouts.csv\", index=False)"
   ]
  },
  {
   "cell_type": "code",
   "execution_count": null,
   "id": "d2bf7443",
   "metadata": {},
   "outputs": [],
   "source": [
    "# all records\n",
    "# NOTE not all data is cleaned, will need to re-format if using this in the future\n",
    "# for now will put with all export \n",
    "all_records.to_csv(\"apple_health_export/all_records.csv\")"
   ]
  },
  {
   "cell_type": "markdown",
   "id": "dc4978b2",
   "metadata": {},
   "source": [
    "Note: steps data cleaned in \"get_steps.py\" script, added on 4.25"
   ]
  }
 ],
 "metadata": {
  "kernelspec": {
   "display_name": "Python 3 (ipykernel)",
   "language": "python",
   "name": "python3"
  },
  "language_info": {
   "codemirror_mode": {
    "name": "ipython",
    "version": 3
   },
   "file_extension": ".py",
   "mimetype": "text/x-python",
   "name": "python",
   "nbconvert_exporter": "python",
   "pygments_lexer": "ipython3",
   "version": "3.9.5"
  }
 },
 "nbformat": 4,
 "nbformat_minor": 5
}
