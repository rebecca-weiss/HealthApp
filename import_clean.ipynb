{
 "cells": [
  {
   "cell_type": "markdown",
   "id": "ea5f5862",
   "metadata": {},
   "source": [
    "# Load Data from apple_health_export/ \n",
    "Originally as XML file, want to convert to csv"
   ]
  },
  {
   "cell_type": "code",
   "execution_count": 3,
   "id": "e5a8c3d9",
   "metadata": {},
   "outputs": [],
   "source": [
    "# Load needed packages\n",
    "import xml.etree.ElementTree as ET\n",
    "import pandas as pd\n",
    "import xmltodict"
   ]
  },
  {
   "cell_type": "code",
   "execution_count": 4,
   "id": "6f6ba84b",
   "metadata": {},
   "outputs": [],
   "source": [
    "# use your own directory, this is where I exported my data\n",
    "data_path = 'apple_health_export/export.xml' \n",
    "\n",
    "# read XML file, convert to a dictionary\n",
    "with open(data_path, 'r') as xml_file:\n",
    "    all_data = xmltodict.parse(xml_file.read())"
   ]
  },
  {
   "cell_type": "code",
   "execution_count": 6,
   "id": "10e1855f",
   "metadata": {},
   "outputs": [
    {
     "data": {
      "text/plain": [
       "odict_keys(['@locale', 'ExportDate', 'Me', 'Record', 'Workout', 'ActivitySummary'])"
      ]
     },
     "execution_count": 6,
     "metadata": {},
     "output_type": "execute_result"
    }
   ],
   "source": [
    "# look at all data available (remember it is in a dictionary)\n",
    "all_data['HealthData'].keys()"
   ]
  },
  {
   "cell_type": "markdown",
   "id": "c38ebfab",
   "metadata": {},
   "source": [
    "For now, let's just look at my individual activity summary for each day and focus on that. Will put all health Records and Activity Summary into list, and then pandas dataframe"
   ]
  },
  {
   "cell_type": "code",
   "execution_count": 8,
   "id": "29746774",
   "metadata": {},
   "outputs": [],
   "source": [
    "# create a records list for overall health data, put into pandas dataframe\n",
    "records_list = all_data['HealthData']['Record']\n",
    "all_records = pd.DataFrame(records_list)"
   ]
  },
  {
   "cell_type": "code",
   "execution_count": 13,
   "id": "f624a3c6",
   "metadata": {},
   "outputs": [],
   "source": [
    "# activity summary (acts)\n",
    "acts_list = all_data['HealthData']['ActivitySummary']\n",
    "acts_df = pd.DataFrame(acts_list)"
   ]
  },
  {
   "cell_type": "code",
   "execution_count": 16,
   "id": "fe3dc7ef",
   "metadata": {},
   "outputs": [
    {
     "data": {
      "text/html": [
       "<div>\n",
       "<style scoped>\n",
       "    .dataframe tbody tr th:only-of-type {\n",
       "        vertical-align: middle;\n",
       "    }\n",
       "\n",
       "    .dataframe tbody tr th {\n",
       "        vertical-align: top;\n",
       "    }\n",
       "\n",
       "    .dataframe thead th {\n",
       "        text-align: right;\n",
       "    }\n",
       "</style>\n",
       "<table border=\"1\" class=\"dataframe\">\n",
       "  <thead>\n",
       "    <tr style=\"text-align: right;\">\n",
       "      <th></th>\n",
       "      <th>@dateComponents</th>\n",
       "      <th>@activeEnergyBurned</th>\n",
       "      <th>@activeEnergyBurnedGoal</th>\n",
       "      <th>@activeEnergyBurnedUnit</th>\n",
       "      <th>@appleMoveTime</th>\n",
       "      <th>@appleMoveTimeGoal</th>\n",
       "      <th>@appleExerciseTime</th>\n",
       "      <th>@appleExerciseTimeGoal</th>\n",
       "      <th>@appleStandHours</th>\n",
       "      <th>@appleStandHoursGoal</th>\n",
       "    </tr>\n",
       "  </thead>\n",
       "  <tbody>\n",
       "    <tr>\n",
       "      <th>2377</th>\n",
       "      <td>2022-04-18</td>\n",
       "      <td>470.326</td>\n",
       "      <td>500</td>\n",
       "      <td>Cal</td>\n",
       "      <td>0</td>\n",
       "      <td>0</td>\n",
       "      <td>12</td>\n",
       "      <td>30</td>\n",
       "      <td>12</td>\n",
       "      <td>12</td>\n",
       "    </tr>\n",
       "    <tr>\n",
       "      <th>2378</th>\n",
       "      <td>2022-04-19</td>\n",
       "      <td>468.66</td>\n",
       "      <td>500</td>\n",
       "      <td>Cal</td>\n",
       "      <td>0</td>\n",
       "      <td>0</td>\n",
       "      <td>31</td>\n",
       "      <td>30</td>\n",
       "      <td>15</td>\n",
       "      <td>12</td>\n",
       "    </tr>\n",
       "    <tr>\n",
       "      <th>2379</th>\n",
       "      <td>2022-04-20</td>\n",
       "      <td>554.801</td>\n",
       "      <td>500</td>\n",
       "      <td>Cal</td>\n",
       "      <td>0</td>\n",
       "      <td>0</td>\n",
       "      <td>27</td>\n",
       "      <td>30</td>\n",
       "      <td>15</td>\n",
       "      <td>12</td>\n",
       "    </tr>\n",
       "    <tr>\n",
       "      <th>2380</th>\n",
       "      <td>2022-04-21</td>\n",
       "      <td>819.034</td>\n",
       "      <td>500</td>\n",
       "      <td>Cal</td>\n",
       "      <td>0</td>\n",
       "      <td>0</td>\n",
       "      <td>91</td>\n",
       "      <td>30</td>\n",
       "      <td>14</td>\n",
       "      <td>12</td>\n",
       "    </tr>\n",
       "    <tr>\n",
       "      <th>2381</th>\n",
       "      <td>2022-04-22</td>\n",
       "      <td>656.536</td>\n",
       "      <td>500</td>\n",
       "      <td>Cal</td>\n",
       "      <td>0</td>\n",
       "      <td>0</td>\n",
       "      <td>74</td>\n",
       "      <td>30</td>\n",
       "      <td>11</td>\n",
       "      <td>12</td>\n",
       "    </tr>\n",
       "  </tbody>\n",
       "</table>\n",
       "</div>"
      ],
      "text/plain": [
       "     @dateComponents @activeEnergyBurned @activeEnergyBurnedGoal  \\\n",
       "2377      2022-04-18             470.326                     500   \n",
       "2378      2022-04-19              468.66                     500   \n",
       "2379      2022-04-20             554.801                     500   \n",
       "2380      2022-04-21             819.034                     500   \n",
       "2381      2022-04-22             656.536                     500   \n",
       "\n",
       "     @activeEnergyBurnedUnit @appleMoveTime @appleMoveTimeGoal  \\\n",
       "2377                     Cal              0                  0   \n",
       "2378                     Cal              0                  0   \n",
       "2379                     Cal              0                  0   \n",
       "2380                     Cal              0                  0   \n",
       "2381                     Cal              0                  0   \n",
       "\n",
       "     @appleExerciseTime @appleExerciseTimeGoal @appleStandHours  \\\n",
       "2377                 12                     30               12   \n",
       "2378                 31                     30               15   \n",
       "2379                 27                     30               15   \n",
       "2380                 91                     30               14   \n",
       "2381                 74                     30               11   \n",
       "\n",
       "     @appleStandHoursGoal  \n",
       "2377                   12  \n",
       "2378                   12  \n",
       "2379                   12  \n",
       "2380                   12  \n",
       "2381                   12  "
      ]
     },
     "execution_count": 16,
     "metadata": {},
     "output_type": "execute_result"
    }
   ],
   "source": [
    "# glimpse at data\n",
    "acts_df.tail()"
   ]
  },
  {
   "cell_type": "markdown",
   "id": "8c2f56b4",
   "metadata": {},
   "source": [
    "# Now that data is imported, I will clean it for easier use "
   ]
  },
  {
   "cell_type": "code",
   "execution_count": null,
   "id": "18ccf224",
   "metadata": {},
   "outputs": [],
   "source": [
    "## Cleaning \n",
    "\n",
    "# get datetime format where needed\n",
    "acts_df['@dateComponents'] = pd.to_datetime(acts_df['@dateComponents'])\n",
    "\n",
    "# value is numeric, NaN if fails\n",
    "data['value'] = pd.to_numeric(data['value'], errors='coerce')\n",
    "\n",
    "# some records do not measure anything, just count occurences\n",
    "# filling with 1.0 (= one time) makes it easier to aggregate\n",
    "data['value'] = data['value'].fillna(1.0)\n",
    "\n",
    "# shorter observation names: use vectorized replace function\n",
    "data['type'] = data['type'].str.replace('HKQuantityTypeIdentifier', '')\n",
    "data['type'] = data['type'].str.replace('HKCategoryTypeIdentifier', '')"
   ]
  }
 ],
 "metadata": {
  "kernelspec": {
   "display_name": "Python 3 (ipykernel)",
   "language": "python",
   "name": "python3"
  },
  "language_info": {
   "codemirror_mode": {
    "name": "ipython",
    "version": 3
   },
   "file_extension": ".py",
   "mimetype": "text/x-python",
   "name": "python",
   "nbconvert_exporter": "python",
   "pygments_lexer": "ipython3",
   "version": "3.9.5"
  }
 },
 "nbformat": 4,
 "nbformat_minor": 5
}
