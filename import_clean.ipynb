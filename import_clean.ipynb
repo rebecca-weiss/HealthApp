{
 "cells": [
  {
   "cell_type": "markdown",
   "id": "ad8f5f45",
   "metadata": {},
   "source": [
    "# Load Data from apple_health_export/ \n",
    "Originally as XML file, want to convert to csv"
   ]
  },
  {
   "cell_type": "code",
   "execution_count": 1,
   "id": "1908993e",
   "metadata": {},
   "outputs": [],
   "source": [
    "# Load needed packages\n",
    "import pandas as pd\n",
    "import xmltodict"
   ]
  },
  {
   "cell_type": "code",
   "execution_count": 2,
   "id": "5b6fcacc",
   "metadata": {},
   "outputs": [],
   "source": [
    "# use your own directory, this is where I exported my data\n",
    "data_path = 'apple_health_export/export.xml' \n",
    "\n",
    "# read XML file, convert to a dictionary\n",
    "with open(data_path, 'r') as xml_file:\n",
    "    all_data = xmltodict.parse(xml_file.read())"
   ]
  },
  {
   "cell_type": "code",
   "execution_count": 3,
   "id": "4582b8f8",
   "metadata": {},
   "outputs": [
    {
     "data": {
      "text/plain": [
       "odict_keys(['@locale', 'ExportDate', 'Me', 'Record', 'Workout', 'ActivitySummary'])"
      ]
     },
     "execution_count": 3,
     "metadata": {},
     "output_type": "execute_result"
    }
   ],
   "source": [
    "# look at all data available (remember it is in a dictionary)\n",
    "all_data['HealthData'].keys()"
   ]
  },
  {
   "cell_type": "markdown",
   "id": "6526342d",
   "metadata": {},
   "source": [
    "For now, I will just show the steps for cleaning my individual activity summary (acts), which I will put into a list, and then pandas dataframe. I will also do so for other records (all), workout, etc. in the future"
   ]
  },
  {
   "cell_type": "code",
   "execution_count": 5,
   "id": "30edc0ad",
   "metadata": {},
   "outputs": [],
   "source": [
    "# create a records list for overall health data, put into pandas dataframe\n",
    "records_list = all_data['HealthData']['Record']\n",
    "all_records = pd.DataFrame(records_list)"
   ]
  },
  {
   "cell_type": "code",
   "execution_count": 6,
   "id": "aad55516",
   "metadata": {},
   "outputs": [],
   "source": [
    "# activity summary (acts)\n",
    "acts_list = all_data['HealthData']['ActivitySummary']\n",
    "acts_df = pd.DataFrame(acts_list)"
   ]
  },
  {
   "cell_type": "code",
   "execution_count": 7,
   "id": "27076eda",
   "metadata": {},
   "outputs": [
    {
     "data": {
      "text/html": [
       "<div>\n",
       "<style scoped>\n",
       "    .dataframe tbody tr th:only-of-type {\n",
       "        vertical-align: middle;\n",
       "    }\n",
       "\n",
       "    .dataframe tbody tr th {\n",
       "        vertical-align: top;\n",
       "    }\n",
       "\n",
       "    .dataframe thead th {\n",
       "        text-align: right;\n",
       "    }\n",
       "</style>\n",
       "<table border=\"1\" class=\"dataframe\">\n",
       "  <thead>\n",
       "    <tr style=\"text-align: right;\">\n",
       "      <th></th>\n",
       "      <th>@dateComponents</th>\n",
       "      <th>@activeEnergyBurned</th>\n",
       "      <th>@activeEnergyBurnedGoal</th>\n",
       "      <th>@activeEnergyBurnedUnit</th>\n",
       "      <th>@appleMoveTime</th>\n",
       "      <th>@appleMoveTimeGoal</th>\n",
       "      <th>@appleExerciseTime</th>\n",
       "      <th>@appleExerciseTimeGoal</th>\n",
       "      <th>@appleStandHours</th>\n",
       "      <th>@appleStandHoursGoal</th>\n",
       "    </tr>\n",
       "  </thead>\n",
       "  <tbody>\n",
       "    <tr>\n",
       "      <th>0</th>\n",
       "      <td>1969-12-30</td>\n",
       "      <td>0</td>\n",
       "      <td>0</td>\n",
       "      <td>Cal</td>\n",
       "      <td>0</td>\n",
       "      <td>0</td>\n",
       "      <td>0</td>\n",
       "      <td>30</td>\n",
       "      <td>0</td>\n",
       "      <td>12</td>\n",
       "    </tr>\n",
       "    <tr>\n",
       "      <th>1</th>\n",
       "      <td>1969-12-31</td>\n",
       "      <td>0</td>\n",
       "      <td>0</td>\n",
       "      <td>Cal</td>\n",
       "      <td>0</td>\n",
       "      <td>0</td>\n",
       "      <td>0</td>\n",
       "      <td>30</td>\n",
       "      <td>0</td>\n",
       "      <td>12</td>\n",
       "    </tr>\n",
       "    <tr>\n",
       "      <th>2</th>\n",
       "      <td>2015-08-29</td>\n",
       "      <td>0</td>\n",
       "      <td>0</td>\n",
       "      <td>Cal</td>\n",
       "      <td>0</td>\n",
       "      <td>0</td>\n",
       "      <td>0</td>\n",
       "      <td>30</td>\n",
       "      <td>0</td>\n",
       "      <td>12</td>\n",
       "    </tr>\n",
       "    <tr>\n",
       "      <th>3</th>\n",
       "      <td>2015-08-30</td>\n",
       "      <td>0.467</td>\n",
       "      <td>0</td>\n",
       "      <td>Cal</td>\n",
       "      <td>0</td>\n",
       "      <td>0</td>\n",
       "      <td>0</td>\n",
       "      <td>30</td>\n",
       "      <td>0</td>\n",
       "      <td>12</td>\n",
       "    </tr>\n",
       "    <tr>\n",
       "      <th>4</th>\n",
       "      <td>2015-10-01</td>\n",
       "      <td>0</td>\n",
       "      <td>0</td>\n",
       "      <td>Cal</td>\n",
       "      <td>0</td>\n",
       "      <td>0</td>\n",
       "      <td>0</td>\n",
       "      <td>30</td>\n",
       "      <td>0</td>\n",
       "      <td>12</td>\n",
       "    </tr>\n",
       "  </tbody>\n",
       "</table>\n",
       "</div>"
      ],
      "text/plain": [
       "  @dateComponents @activeEnergyBurned @activeEnergyBurnedGoal  \\\n",
       "0      1969-12-30                   0                       0   \n",
       "1      1969-12-31                   0                       0   \n",
       "2      2015-08-29                   0                       0   \n",
       "3      2015-08-30               0.467                       0   \n",
       "4      2015-10-01                   0                       0   \n",
       "\n",
       "  @activeEnergyBurnedUnit @appleMoveTime @appleMoveTimeGoal  \\\n",
       "0                     Cal              0                  0   \n",
       "1                     Cal              0                  0   \n",
       "2                     Cal              0                  0   \n",
       "3                     Cal              0                  0   \n",
       "4                     Cal              0                  0   \n",
       "\n",
       "  @appleExerciseTime @appleExerciseTimeGoal @appleStandHours  \\\n",
       "0                  0                     30                0   \n",
       "1                  0                     30                0   \n",
       "2                  0                     30                0   \n",
       "3                  0                     30                0   \n",
       "4                  0                     30                0   \n",
       "\n",
       "  @appleStandHoursGoal  \n",
       "0                   12  \n",
       "1                   12  \n",
       "2                   12  \n",
       "3                   12  \n",
       "4                   12  "
      ]
     },
     "execution_count": 7,
     "metadata": {},
     "output_type": "execute_result"
    }
   ],
   "source": [
    "# glimpse at data\n",
    "acts_df.head()"
   ]
  },
  {
   "cell_type": "markdown",
   "id": "f7e3055a",
   "metadata": {},
   "source": [
    "# Now that data is imported, I will clean it for easier use "
   ]
  },
  {
   "cell_type": "code",
   "execution_count": 8,
   "id": "670c90a3",
   "metadata": {},
   "outputs": [],
   "source": [
    "## Cleaning \n",
    "\n",
    "# remove special characters from column names \n",
    "acts_df.columns = acts_df.columns.str.replace('@', '')\n",
    "\n",
    "# convert date column to date format\n",
    "acts_df['dateComponents'] = pd.to_datetime(acts_df['dateComponents'])\n",
    "\n",
    "# make sure dates are only within range from 1/2016-recent (4/2022),\n",
    "# this is when I got the apple watch, data is not just from phone\n",
    "acts_df = acts_df[(acts_df['dateComponents'] > '2016-1-1') & (acts_df['dateComponents'] <= '2022-4-1')]\n"
   ]
  },
  {
   "cell_type": "code",
   "execution_count": 9,
   "id": "cbb54b75",
   "metadata": {},
   "outputs": [
    {
     "data": {
      "text/html": [
       "<div>\n",
       "<style scoped>\n",
       "    .dataframe tbody tr th:only-of-type {\n",
       "        vertical-align: middle;\n",
       "    }\n",
       "\n",
       "    .dataframe tbody tr th {\n",
       "        vertical-align: top;\n",
       "    }\n",
       "\n",
       "    .dataframe thead th {\n",
       "        text-align: right;\n",
       "    }\n",
       "</style>\n",
       "<table border=\"1\" class=\"dataframe\">\n",
       "  <thead>\n",
       "    <tr style=\"text-align: right;\">\n",
       "      <th></th>\n",
       "      <th>dateComponents</th>\n",
       "      <th>activeEnergyBurned</th>\n",
       "      <th>activeEnergyBurnedGoal</th>\n",
       "      <th>activeEnergyBurnedUnit</th>\n",
       "      <th>appleMoveTime</th>\n",
       "      <th>appleMoveTimeGoal</th>\n",
       "      <th>appleExerciseTime</th>\n",
       "      <th>appleExerciseTimeGoal</th>\n",
       "      <th>appleStandHours</th>\n",
       "      <th>appleStandHoursGoal</th>\n",
       "    </tr>\n",
       "  </thead>\n",
       "  <tbody>\n",
       "    <tr>\n",
       "      <th>97</th>\n",
       "      <td>2016-01-02</td>\n",
       "      <td>564.696</td>\n",
       "      <td>320</td>\n",
       "      <td>Cal</td>\n",
       "      <td>0</td>\n",
       "      <td>0</td>\n",
       "      <td>49</td>\n",
       "      <td>30</td>\n",
       "      <td>12</td>\n",
       "      <td>12</td>\n",
       "    </tr>\n",
       "    <tr>\n",
       "      <th>98</th>\n",
       "      <td>2016-01-03</td>\n",
       "      <td>805.292</td>\n",
       "      <td>320</td>\n",
       "      <td>Cal</td>\n",
       "      <td>0</td>\n",
       "      <td>0</td>\n",
       "      <td>73</td>\n",
       "      <td>30</td>\n",
       "      <td>12</td>\n",
       "      <td>12</td>\n",
       "    </tr>\n",
       "    <tr>\n",
       "      <th>99</th>\n",
       "      <td>2016-01-04</td>\n",
       "      <td>791.03</td>\n",
       "      <td>350</td>\n",
       "      <td>Cal</td>\n",
       "      <td>0</td>\n",
       "      <td>0</td>\n",
       "      <td>73</td>\n",
       "      <td>30</td>\n",
       "      <td>14</td>\n",
       "      <td>12</td>\n",
       "    </tr>\n",
       "    <tr>\n",
       "      <th>100</th>\n",
       "      <td>2016-01-05</td>\n",
       "      <td>206.855</td>\n",
       "      <td>350</td>\n",
       "      <td>Cal</td>\n",
       "      <td>0</td>\n",
       "      <td>0</td>\n",
       "      <td>5</td>\n",
       "      <td>30</td>\n",
       "      <td>12</td>\n",
       "      <td>12</td>\n",
       "    </tr>\n",
       "    <tr>\n",
       "      <th>101</th>\n",
       "      <td>2016-01-06</td>\n",
       "      <td>617.195</td>\n",
       "      <td>350</td>\n",
       "      <td>Cal</td>\n",
       "      <td>0</td>\n",
       "      <td>0</td>\n",
       "      <td>54</td>\n",
       "      <td>30</td>\n",
       "      <td>13</td>\n",
       "      <td>12</td>\n",
       "    </tr>\n",
       "  </tbody>\n",
       "</table>\n",
       "</div>"
      ],
      "text/plain": [
       "    dateComponents activeEnergyBurned activeEnergyBurnedGoal  \\\n",
       "97      2016-01-02            564.696                    320   \n",
       "98      2016-01-03            805.292                    320   \n",
       "99      2016-01-04             791.03                    350   \n",
       "100     2016-01-05            206.855                    350   \n",
       "101     2016-01-06            617.195                    350   \n",
       "\n",
       "    activeEnergyBurnedUnit appleMoveTime appleMoveTimeGoal appleExerciseTime  \\\n",
       "97                     Cal             0                 0                49   \n",
       "98                     Cal             0                 0                73   \n",
       "99                     Cal             0                 0                73   \n",
       "100                    Cal             0                 0                 5   \n",
       "101                    Cal             0                 0                54   \n",
       "\n",
       "    appleExerciseTimeGoal appleStandHours appleStandHoursGoal  \n",
       "97                     30              12                  12  \n",
       "98                     30              12                  12  \n",
       "99                     30              14                  12  \n",
       "100                    30              12                  12  \n",
       "101                    30              13                  12  "
      ]
     },
     "execution_count": 9,
     "metadata": {},
     "output_type": "execute_result"
    }
   ],
   "source": [
    "acts_df.head()"
   ]
  },
  {
   "cell_type": "markdown",
   "id": "4c980655",
   "metadata": {},
   "source": [
    "Now that dates and columns are done, lets look at data types"
   ]
  },
  {
   "cell_type": "code",
   "execution_count": 10,
   "id": "a1fe8b64",
   "metadata": {},
   "outputs": [
    {
     "data": {
      "text/plain": [
       "dateComponents            datetime64[ns]\n",
       "activeEnergyBurned                object\n",
       "activeEnergyBurnedGoal            object\n",
       "activeEnergyBurnedUnit            object\n",
       "appleMoveTime                     object\n",
       "appleMoveTimeGoal                 object\n",
       "appleExerciseTime                 object\n",
       "appleExerciseTimeGoal             object\n",
       "appleStandHours                   object\n",
       "appleStandHoursGoal               object\n",
       "dtype: object"
      ]
     },
     "execution_count": 10,
     "metadata": {},
     "output_type": "execute_result"
    }
   ],
   "source": [
    "acts_df.dtypes"
   ]
  },
  {
   "cell_type": "code",
   "execution_count": 11,
   "id": "075485bf",
   "metadata": {},
   "outputs": [],
   "source": [
    "# convert the rest of the columns to integers (except for Unit)\n",
    "cols = acts_df.columns\n",
    "acts_df[cols[1:3]] = acts_df[cols[1:3]].apply(pd.to_numeric, errors='coerce')\n",
    "acts_df[cols[4:]] = acts_df[cols[4:]].apply(pd.to_numeric, errors='coerce')\n",
    "\n",
    "# round active energy so it is consistent\n",
    "acts_df = acts_df.round()"
   ]
  },
  {
   "cell_type": "markdown",
   "id": "b4475c45",
   "metadata": {},
   "source": [
    "# For more analyses and visualizations, I will also clean the workouts and put into a dataframe"
   ]
  },
  {
   "cell_type": "code",
   "execution_count": 87,
   "id": "bed18af0",
   "metadata": {},
   "outputs": [],
   "source": [
    "# create workouts df\n",
    "workouts_list = all_data['HealthData']['Workout']\n",
    "workout_df = pd.DataFrame(workouts_list)"
   ]
  },
  {
   "cell_type": "code",
   "execution_count": 88,
   "id": "3190b0e7",
   "metadata": {},
   "outputs": [
    {
     "data": {
      "text/plain": [
       "Index(['@workoutActivityType', '@duration', '@durationUnit', '@totalDistance',\n",
       "       '@totalDistanceUnit', '@totalEnergyBurned', '@totalEnergyBurnedUnit',\n",
       "       '@sourceName', '@sourceVersion', '@creationDate', '@startDate',\n",
       "       '@endDate', 'MetadataEntry', 'WorkoutEvent', '@device', 'WorkoutRoute'],\n",
       "      dtype='object')"
      ]
     },
     "execution_count": 88,
     "metadata": {},
     "output_type": "execute_result"
    }
   ],
   "source": [
    "# look at variables (workout)\n",
    "workout_df.keys()"
   ]
  },
  {
   "cell_type": "code",
   "execution_count": 89,
   "id": "86e4cc35",
   "metadata": {},
   "outputs": [],
   "source": [
    "# remove special characters from column names \n",
    "all_records.columns = all_records.columns.str.replace('@', '')\n",
    "workout_df.columns = workout_df.columns.str.replace('@', '')"
   ]
  },
  {
   "cell_type": "code",
   "execution_count": 90,
   "id": "b1568404",
   "metadata": {},
   "outputs": [],
   "source": [
    "workout_df['workoutActivityType'].unique()\n",
    "\n",
    "# convert/string replace for easier naming\n",
    "workout_df['workoutActivityType'] = workout_df['workoutActivityType'].str.replace('HKWorkoutActivityType', '')"
   ]
  },
  {
   "cell_type": "code",
   "execution_count": 91,
   "id": "4bf69bb7",
   "metadata": {},
   "outputs": [
    {
     "data": {
      "text/plain": [
       "array(['Walking', 'Running', 'Elliptical', 'Cycling', 'Rowing',\n",
       "       'MixedCardio', 'FunctionalStrengthTraining',\n",
       "       'PreparationAndRecovery', 'HighIntensityIntervalTraining', 'Yoga',\n",
       "       'Other', 'CrossTraining'], dtype=object)"
      ]
     },
     "execution_count": 91,
     "metadata": {},
     "output_type": "execute_result"
    }
   ],
   "source": [
    "# What columns do we have to work with? Can decide how to parse data \n",
    "all_records['type'].unique()\n",
    "workout_df['workoutActivityType'].unique()"
   ]
  },
  {
   "cell_type": "code",
   "execution_count": 92,
   "id": "f58a4dc2",
   "metadata": {},
   "outputs": [],
   "source": [
    "# convert date column to date format for three columns containing 'date'\n",
    "# make sure dates are only within range from 1/2016-recent (4/2022),\n",
    "dates = ['startDate', 'endDate', 'creationDate'] # list of cols with date in them \n",
    "for cols in dates:\n",
    "    workout_df[cols] = pd.to_datetime(workout_df[cols])\n",
    "    workout_df = workout_df[(workout_df[cols] > '2016-1-1') & (workout_df[cols] <= '2022-4-1')]\n"
   ]
  },
  {
   "cell_type": "code",
   "execution_count": 93,
   "id": "726aec51",
   "metadata": {},
   "outputs": [],
   "source": [
    "#drop columns we do not need\n",
    "workout_df = workout_df.drop(columns=['MetadataEntry', 'WorkoutEvent', 'device', 'WorkoutRoute'])"
   ]
  },
  {
   "cell_type": "code",
   "execution_count": 94,
   "id": "b27b7e5a",
   "metadata": {},
   "outputs": [],
   "source": [
    "# look at data types\n",
    "workout_df.dtypes\n",
    "\n",
    "for cols in ['duration', 'totalDistance', 'totalEnergyBurned']:\n",
    "    workout_df[cols] = pd.to_numeric(workout_df[cols], errors='coerce')"
   ]
  },
  {
   "cell_type": "code",
   "execution_count": 96,
   "id": "78f80dfc",
   "metadata": {},
   "outputs": [
    {
     "data": {
      "text/html": [
       "<div>\n",
       "<style scoped>\n",
       "    .dataframe tbody tr th:only-of-type {\n",
       "        vertical-align: middle;\n",
       "    }\n",
       "\n",
       "    .dataframe tbody tr th {\n",
       "        vertical-align: top;\n",
       "    }\n",
       "\n",
       "    .dataframe thead th {\n",
       "        text-align: right;\n",
       "    }\n",
       "</style>\n",
       "<table border=\"1\" class=\"dataframe\">\n",
       "  <thead>\n",
       "    <tr style=\"text-align: right;\">\n",
       "      <th></th>\n",
       "      <th>workoutActivityType</th>\n",
       "      <th>duration</th>\n",
       "      <th>durationUnit</th>\n",
       "      <th>totalDistance</th>\n",
       "      <th>totalDistanceUnit</th>\n",
       "      <th>totalEnergyBurned</th>\n",
       "      <th>totalEnergyBurnedUnit</th>\n",
       "      <th>sourceName</th>\n",
       "      <th>sourceVersion</th>\n",
       "      <th>creationDate</th>\n",
       "      <th>startDate</th>\n",
       "      <th>endDate</th>\n",
       "    </tr>\n",
       "  </thead>\n",
       "  <tbody>\n",
       "    <tr>\n",
       "      <th>1009</th>\n",
       "      <td>Walking</td>\n",
       "      <td>33.281538</td>\n",
       "      <td>min</td>\n",
       "      <td>2.131079</td>\n",
       "      <td>mi</td>\n",
       "      <td>194.725963</td>\n",
       "      <td>Cal</td>\n",
       "      <td>Rebecca’s Apple Watch</td>\n",
       "      <td>8.4.1</td>\n",
       "      <td>2022-02-10 17:43:56-04:00</td>\n",
       "      <td>2022-02-10 17:10:38-04:00</td>\n",
       "      <td>2022-02-10 17:43:55-04:00</td>\n",
       "    </tr>\n",
       "    <tr>\n",
       "      <th>1010</th>\n",
       "      <td>Walking</td>\n",
       "      <td>29.858132</td>\n",
       "      <td>min</td>\n",
       "      <td>2.011422</td>\n",
       "      <td>mi</td>\n",
       "      <td>193.564586</td>\n",
       "      <td>Cal</td>\n",
       "      <td>Rebecca’s Apple Watch</td>\n",
       "      <td>8.4.2</td>\n",
       "      <td>2022-02-12 17:30:30-04:00</td>\n",
       "      <td>2022-02-12 17:00:38-04:00</td>\n",
       "      <td>2022-02-12 17:30:30-04:00</td>\n",
       "    </tr>\n",
       "    <tr>\n",
       "      <th>1016</th>\n",
       "      <td>Walking</td>\n",
       "      <td>30.295698</td>\n",
       "      <td>min</td>\n",
       "      <td>2.012164</td>\n",
       "      <td>mi</td>\n",
       "      <td>191.064238</td>\n",
       "      <td>Cal</td>\n",
       "      <td>Rebecca’s Apple Watch</td>\n",
       "      <td>8.4.2</td>\n",
       "      <td>2022-02-23 17:58:53-04:00</td>\n",
       "      <td>2022-02-23 17:28:34-04:00</td>\n",
       "      <td>2022-02-23 17:58:52-04:00</td>\n",
       "    </tr>\n",
       "    <tr>\n",
       "      <th>1023</th>\n",
       "      <td>Walking</td>\n",
       "      <td>23.023239</td>\n",
       "      <td>min</td>\n",
       "      <td>1.326645</td>\n",
       "      <td>mi</td>\n",
       "      <td>164.271505</td>\n",
       "      <td>Cal</td>\n",
       "      <td>Rebecca’s Apple Watch</td>\n",
       "      <td>8.4.2</td>\n",
       "      <td>2022-03-08 16:10:07-04:00</td>\n",
       "      <td>2022-03-08 15:47:05-04:00</td>\n",
       "      <td>2022-03-08 16:10:07-04:00</td>\n",
       "    </tr>\n",
       "    <tr>\n",
       "      <th>1025</th>\n",
       "      <td>Walking</td>\n",
       "      <td>40.164821</td>\n",
       "      <td>min</td>\n",
       "      <td>2.694165</td>\n",
       "      <td>mi</td>\n",
       "      <td>296.217819</td>\n",
       "      <td>Cal</td>\n",
       "      <td>Rebecca’s Apple Watch</td>\n",
       "      <td>8.4.2</td>\n",
       "      <td>2022-03-25 17:41:12-04:00</td>\n",
       "      <td>2022-03-25 17:01:02-04:00</td>\n",
       "      <td>2022-03-25 17:41:12-04:00</td>\n",
       "    </tr>\n",
       "  </tbody>\n",
       "</table>\n",
       "</div>"
      ],
      "text/plain": [
       "     workoutActivityType   duration durationUnit  totalDistance  \\\n",
       "1009             Walking  33.281538          min       2.131079   \n",
       "1010             Walking  29.858132          min       2.011422   \n",
       "1016             Walking  30.295698          min       2.012164   \n",
       "1023             Walking  23.023239          min       1.326645   \n",
       "1025             Walking  40.164821          min       2.694165   \n",
       "\n",
       "     totalDistanceUnit  totalEnergyBurned totalEnergyBurnedUnit  \\\n",
       "1009                mi         194.725963                   Cal   \n",
       "1010                mi         193.564586                   Cal   \n",
       "1016                mi         191.064238                   Cal   \n",
       "1023                mi         164.271505                   Cal   \n",
       "1025                mi         296.217819                   Cal   \n",
       "\n",
       "                 sourceName sourceVersion              creationDate  \\\n",
       "1009  Rebecca’s Apple Watch         8.4.1 2022-02-10 17:43:56-04:00   \n",
       "1010  Rebecca’s Apple Watch         8.4.2 2022-02-12 17:30:30-04:00   \n",
       "1016  Rebecca’s Apple Watch         8.4.2 2022-02-23 17:58:53-04:00   \n",
       "1023  Rebecca’s Apple Watch         8.4.2 2022-03-08 16:10:07-04:00   \n",
       "1025  Rebecca’s Apple Watch         8.4.2 2022-03-25 17:41:12-04:00   \n",
       "\n",
       "                     startDate                   endDate  \n",
       "1009 2022-02-10 17:10:38-04:00 2022-02-10 17:43:55-04:00  \n",
       "1010 2022-02-12 17:00:38-04:00 2022-02-12 17:30:30-04:00  \n",
       "1016 2022-02-23 17:28:34-04:00 2022-02-23 17:58:52-04:00  \n",
       "1023 2022-03-08 15:47:05-04:00 2022-03-08 16:10:07-04:00  \n",
       "1025 2022-03-25 17:01:02-04:00 2022-03-25 17:41:12-04:00  "
      ]
     },
     "execution_count": 96,
     "metadata": {},
     "output_type": "execute_result"
    }
   ],
   "source": [
    "# quickly view data\n",
    "workout_df.tail()"
   ]
  },
  {
   "cell_type": "markdown",
   "id": "05538edc",
   "metadata": {},
   "source": [
    "# Now that data is consistent, will write to csv and use from here on out"
   ]
  },
  {
   "cell_type": "code",
   "execution_count": null,
   "id": "360d87b0",
   "metadata": {},
   "outputs": [],
   "source": [
    "# activity summary\n",
    "acts_df.to_csv(\"apple_health_export/activitysummary.csv\")"
   ]
  },
  {
   "cell_type": "code",
   "execution_count": 97,
   "id": "1d172988",
   "metadata": {},
   "outputs": [],
   "source": [
    "# workout\n",
    "workout_df.to_csv(\"apple_health_export/workouts.csv\")"
   ]
  },
  {
   "cell_type": "code",
   "execution_count": 99,
   "id": "a8762f6f",
   "metadata": {},
   "outputs": [],
   "source": [
    "# all records\n",
    "# NOTE not all data is cleaned, will need to re-format if using this in the future\n",
    "all_records.to_csv(\"apple_health_export/all_records.csv\")"
   ]
  }
 ],
 "metadata": {
  "kernelspec": {
   "display_name": "Python 3 (ipykernel)",
   "language": "python",
   "name": "python3"
  },
  "language_info": {
   "codemirror_mode": {
    "name": "ipython",
    "version": 3
   },
   "file_extension": ".py",
   "mimetype": "text/x-python",
   "name": "python",
   "nbconvert_exporter": "python",
   "pygments_lexer": "ipython3",
   "version": "3.9.5"
  }
 },
 "nbformat": 4,
 "nbformat_minor": 5
}
