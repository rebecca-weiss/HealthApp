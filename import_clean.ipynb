{
 "cells": [
  {
   "cell_type": "markdown",
   "id": "cbefcd7d",
   "metadata": {},
   "source": [
    "# Load Data from apple_health_export/ \n",
    "Originally as XML file, want to convert to csv"
   ]
  },
  {
   "cell_type": "code",
   "execution_count": 3,
   "id": "794b2fac",
   "metadata": {},
   "outputs": [],
   "source": [
    "# Load needed packages\n",
    "import pandas as pd\n",
    "import xmltodict"
   ]
  },
  {
   "cell_type": "code",
   "execution_count": 4,
   "id": "1c6635b7",
   "metadata": {},
   "outputs": [],
   "source": [
    "# use your own directory, this is where I exported my data\n",
    "data_path = 'apple_health_export/export.xml' \n",
    "\n",
    "# read XML file, convert to a dictionary\n",
    "with open(data_path, 'r') as xml_file:\n",
    "    all_data = xmltodict.parse(xml_file.read())"
   ]
  },
  {
   "cell_type": "code",
   "execution_count": 6,
   "id": "9898f2ad",
   "metadata": {},
   "outputs": [
    {
     "data": {
      "text/plain": [
       "odict_keys(['@locale', 'ExportDate', 'Me', 'Record', 'Workout', 'ActivitySummary'])"
      ]
     },
     "execution_count": 6,
     "metadata": {},
     "output_type": "execute_result"
    }
   ],
   "source": [
    "# look at all data available (remember it is in a dictionary)\n",
    "all_data['HealthData'].keys()"
   ]
  },
  {
   "cell_type": "markdown",
   "id": "637114b1",
   "metadata": {},
   "source": [
    "For now, let's just look at my individual activity summary for each day and focus on that. Will put all health Records and Activity Summary into list, and then pandas dataframe"
   ]
  },
  {
   "cell_type": "code",
   "execution_count": 8,
   "id": "506487a4",
   "metadata": {},
   "outputs": [],
   "source": [
    "# create a records list for overall health data, put into pandas dataframe\n",
    "records_list = all_data['HealthData']['Record']\n",
    "all_records = pd.DataFrame(records_list)"
   ]
  },
  {
   "cell_type": "code",
   "execution_count": 109,
   "id": "175aae4a",
   "metadata": {},
   "outputs": [],
   "source": [
    "# activity summary (acts)\n",
    "acts_list = all_data['HealthData']['ActivitySummary']\n",
    "acts_df = pd.DataFrame(acts_list)"
   ]
  },
  {
   "cell_type": "code",
   "execution_count": 110,
   "id": "74a1760f",
   "metadata": {},
   "outputs": [
    {
     "data": {
      "text/html": [
       "<div>\n",
       "<style scoped>\n",
       "    .dataframe tbody tr th:only-of-type {\n",
       "        vertical-align: middle;\n",
       "    }\n",
       "\n",
       "    .dataframe tbody tr th {\n",
       "        vertical-align: top;\n",
       "    }\n",
       "\n",
       "    .dataframe thead th {\n",
       "        text-align: right;\n",
       "    }\n",
       "</style>\n",
       "<table border=\"1\" class=\"dataframe\">\n",
       "  <thead>\n",
       "    <tr style=\"text-align: right;\">\n",
       "      <th></th>\n",
       "      <th>@dateComponents</th>\n",
       "      <th>@activeEnergyBurned</th>\n",
       "      <th>@activeEnergyBurnedGoal</th>\n",
       "      <th>@activeEnergyBurnedUnit</th>\n",
       "      <th>@appleMoveTime</th>\n",
       "      <th>@appleMoveTimeGoal</th>\n",
       "      <th>@appleExerciseTime</th>\n",
       "      <th>@appleExerciseTimeGoal</th>\n",
       "      <th>@appleStandHours</th>\n",
       "      <th>@appleStandHoursGoal</th>\n",
       "    </tr>\n",
       "  </thead>\n",
       "  <tbody>\n",
       "    <tr>\n",
       "      <th>0</th>\n",
       "      <td>1969-12-30</td>\n",
       "      <td>0</td>\n",
       "      <td>0</td>\n",
       "      <td>Cal</td>\n",
       "      <td>0</td>\n",
       "      <td>0</td>\n",
       "      <td>0</td>\n",
       "      <td>30</td>\n",
       "      <td>0</td>\n",
       "      <td>12</td>\n",
       "    </tr>\n",
       "    <tr>\n",
       "      <th>1</th>\n",
       "      <td>1969-12-31</td>\n",
       "      <td>0</td>\n",
       "      <td>0</td>\n",
       "      <td>Cal</td>\n",
       "      <td>0</td>\n",
       "      <td>0</td>\n",
       "      <td>0</td>\n",
       "      <td>30</td>\n",
       "      <td>0</td>\n",
       "      <td>12</td>\n",
       "    </tr>\n",
       "    <tr>\n",
       "      <th>2</th>\n",
       "      <td>2015-08-29</td>\n",
       "      <td>0</td>\n",
       "      <td>0</td>\n",
       "      <td>Cal</td>\n",
       "      <td>0</td>\n",
       "      <td>0</td>\n",
       "      <td>0</td>\n",
       "      <td>30</td>\n",
       "      <td>0</td>\n",
       "      <td>12</td>\n",
       "    </tr>\n",
       "    <tr>\n",
       "      <th>3</th>\n",
       "      <td>2015-08-30</td>\n",
       "      <td>0.467</td>\n",
       "      <td>0</td>\n",
       "      <td>Cal</td>\n",
       "      <td>0</td>\n",
       "      <td>0</td>\n",
       "      <td>0</td>\n",
       "      <td>30</td>\n",
       "      <td>0</td>\n",
       "      <td>12</td>\n",
       "    </tr>\n",
       "    <tr>\n",
       "      <th>4</th>\n",
       "      <td>2015-10-01</td>\n",
       "      <td>0</td>\n",
       "      <td>0</td>\n",
       "      <td>Cal</td>\n",
       "      <td>0</td>\n",
       "      <td>0</td>\n",
       "      <td>0</td>\n",
       "      <td>30</td>\n",
       "      <td>0</td>\n",
       "      <td>12</td>\n",
       "    </tr>\n",
       "  </tbody>\n",
       "</table>\n",
       "</div>"
      ],
      "text/plain": [
       "  @dateComponents @activeEnergyBurned @activeEnergyBurnedGoal  \\\n",
       "0      1969-12-30                   0                       0   \n",
       "1      1969-12-31                   0                       0   \n",
       "2      2015-08-29                   0                       0   \n",
       "3      2015-08-30               0.467                       0   \n",
       "4      2015-10-01                   0                       0   \n",
       "\n",
       "  @activeEnergyBurnedUnit @appleMoveTime @appleMoveTimeGoal  \\\n",
       "0                     Cal              0                  0   \n",
       "1                     Cal              0                  0   \n",
       "2                     Cal              0                  0   \n",
       "3                     Cal              0                  0   \n",
       "4                     Cal              0                  0   \n",
       "\n",
       "  @appleExerciseTime @appleExerciseTimeGoal @appleStandHours  \\\n",
       "0                  0                     30                0   \n",
       "1                  0                     30                0   \n",
       "2                  0                     30                0   \n",
       "3                  0                     30                0   \n",
       "4                  0                     30                0   \n",
       "\n",
       "  @appleStandHoursGoal  \n",
       "0                   12  \n",
       "1                   12  \n",
       "2                   12  \n",
       "3                   12  \n",
       "4                   12  "
      ]
     },
     "execution_count": 110,
     "metadata": {},
     "output_type": "execute_result"
    }
   ],
   "source": [
    "# glimpse at data\n",
    "acts_df.head()"
   ]
  },
  {
   "cell_type": "markdown",
   "id": "651853c7",
   "metadata": {},
   "source": [
    "# Now that data is imported, I will clean it for easier use "
   ]
  },
  {
   "cell_type": "code",
   "execution_count": 111,
   "id": "b9d95f9e",
   "metadata": {},
   "outputs": [],
   "source": [
    "## Cleaning \n",
    "\n",
    "# remove special characters from column names \n",
    "acts_df.columns = acts_df.columns.str.replace('@', '')\n",
    "\n",
    "# convert date column to date format\n",
    "acts_df['dateComponents'] = pd.to_datetime(acts_df['dateComponents'])\n",
    "\n",
    "# make sure dates are only within range from 1/2016-recent (4/2022),\n",
    "# this is when I got the apple watch, data is not just from phone\n",
    "acts_df = acts_df[(acts_df['dateComponents'] > '2016-1-1') & (acts_df['dateComponents'] <= '2022-4-1')]\n"
   ]
  },
  {
   "cell_type": "code",
   "execution_count": 118,
   "id": "107eb070",
   "metadata": {},
   "outputs": [
    {
     "data": {
      "text/html": [
       "<div>\n",
       "<style scoped>\n",
       "    .dataframe tbody tr th:only-of-type {\n",
       "        vertical-align: middle;\n",
       "    }\n",
       "\n",
       "    .dataframe tbody tr th {\n",
       "        vertical-align: top;\n",
       "    }\n",
       "\n",
       "    .dataframe thead th {\n",
       "        text-align: right;\n",
       "    }\n",
       "</style>\n",
       "<table border=\"1\" class=\"dataframe\">\n",
       "  <thead>\n",
       "    <tr style=\"text-align: right;\">\n",
       "      <th></th>\n",
       "      <th>dateComponents</th>\n",
       "      <th>activeEnergyBurned</th>\n",
       "      <th>activeEnergyBurnedGoal</th>\n",
       "      <th>activeEnergyBurnedUnit</th>\n",
       "      <th>appleMoveTime</th>\n",
       "      <th>appleMoveTimeGoal</th>\n",
       "      <th>appleExerciseTime</th>\n",
       "      <th>appleExerciseTimeGoal</th>\n",
       "      <th>appleStandHours</th>\n",
       "      <th>appleStandHoursGoal</th>\n",
       "    </tr>\n",
       "  </thead>\n",
       "  <tbody>\n",
       "    <tr>\n",
       "      <th>97</th>\n",
       "      <td>2016-01-02</td>\n",
       "      <td>565.0</td>\n",
       "      <td>320</td>\n",
       "      <td>Cal</td>\n",
       "      <td>0</td>\n",
       "      <td>0</td>\n",
       "      <td>49</td>\n",
       "      <td>30</td>\n",
       "      <td>12</td>\n",
       "      <td>12</td>\n",
       "    </tr>\n",
       "    <tr>\n",
       "      <th>98</th>\n",
       "      <td>2016-01-03</td>\n",
       "      <td>805.0</td>\n",
       "      <td>320</td>\n",
       "      <td>Cal</td>\n",
       "      <td>0</td>\n",
       "      <td>0</td>\n",
       "      <td>73</td>\n",
       "      <td>30</td>\n",
       "      <td>12</td>\n",
       "      <td>12</td>\n",
       "    </tr>\n",
       "    <tr>\n",
       "      <th>99</th>\n",
       "      <td>2016-01-04</td>\n",
       "      <td>791.0</td>\n",
       "      <td>350</td>\n",
       "      <td>Cal</td>\n",
       "      <td>0</td>\n",
       "      <td>0</td>\n",
       "      <td>73</td>\n",
       "      <td>30</td>\n",
       "      <td>14</td>\n",
       "      <td>12</td>\n",
       "    </tr>\n",
       "    <tr>\n",
       "      <th>100</th>\n",
       "      <td>2016-01-05</td>\n",
       "      <td>207.0</td>\n",
       "      <td>350</td>\n",
       "      <td>Cal</td>\n",
       "      <td>0</td>\n",
       "      <td>0</td>\n",
       "      <td>5</td>\n",
       "      <td>30</td>\n",
       "      <td>12</td>\n",
       "      <td>12</td>\n",
       "    </tr>\n",
       "    <tr>\n",
       "      <th>101</th>\n",
       "      <td>2016-01-06</td>\n",
       "      <td>617.0</td>\n",
       "      <td>350</td>\n",
       "      <td>Cal</td>\n",
       "      <td>0</td>\n",
       "      <td>0</td>\n",
       "      <td>54</td>\n",
       "      <td>30</td>\n",
       "      <td>13</td>\n",
       "      <td>12</td>\n",
       "    </tr>\n",
       "  </tbody>\n",
       "</table>\n",
       "</div>"
      ],
      "text/plain": [
       "    dateComponents  activeEnergyBurned  activeEnergyBurnedGoal  \\\n",
       "97      2016-01-02               565.0                     320   \n",
       "98      2016-01-03               805.0                     320   \n",
       "99      2016-01-04               791.0                     350   \n",
       "100     2016-01-05               207.0                     350   \n",
       "101     2016-01-06               617.0                     350   \n",
       "\n",
       "    activeEnergyBurnedUnit  appleMoveTime  appleMoveTimeGoal  \\\n",
       "97                     Cal              0                  0   \n",
       "98                     Cal              0                  0   \n",
       "99                     Cal              0                  0   \n",
       "100                    Cal              0                  0   \n",
       "101                    Cal              0                  0   \n",
       "\n",
       "     appleExerciseTime  appleExerciseTimeGoal  appleStandHours  \\\n",
       "97                  49                     30               12   \n",
       "98                  73                     30               12   \n",
       "99                  73                     30               14   \n",
       "100                  5                     30               12   \n",
       "101                 54                     30               13   \n",
       "\n",
       "     appleStandHoursGoal  \n",
       "97                    12  \n",
       "98                    12  \n",
       "99                    12  \n",
       "100                   12  \n",
       "101                   12  "
      ]
     },
     "execution_count": 118,
     "metadata": {},
     "output_type": "execute_result"
    }
   ],
   "source": [
    "acts_df.head()"
   ]
  },
  {
   "cell_type": "markdown",
   "id": "2d2cb546",
   "metadata": {},
   "source": [
    "Now that dates and columns are done, lets look at data types"
   ]
  },
  {
   "cell_type": "code",
   "execution_count": 113,
   "id": "18ee797a",
   "metadata": {},
   "outputs": [
    {
     "data": {
      "text/plain": [
       "dateComponents            datetime64[ns]\n",
       "activeEnergyBurned                object\n",
       "activeEnergyBurnedGoal            object\n",
       "activeEnergyBurnedUnit            object\n",
       "appleMoveTime                     object\n",
       "appleMoveTimeGoal                 object\n",
       "appleExerciseTime                 object\n",
       "appleExerciseTimeGoal             object\n",
       "appleStandHours                   object\n",
       "appleStandHoursGoal               object\n",
       "dtype: object"
      ]
     },
     "execution_count": 113,
     "metadata": {},
     "output_type": "execute_result"
    }
   ],
   "source": [
    "acts_df.dtypes"
   ]
  },
  {
   "cell_type": "code",
   "execution_count": 117,
   "id": "800b429d",
   "metadata": {},
   "outputs": [],
   "source": [
    "# convert the rest of the columns to integers (except for Unit)\n",
    "cols = acts_df.columns\n",
    "acts_df[cols[1:3]] = acts_df[cols[1:3]].apply(pd.to_numeric, errors='coerce')\n",
    "acts_df[cols[4:]] = acts_df[cols[4:]].apply(pd.to_numeric, errors='coerce')\n",
    "\n",
    "# round active energy so it is consistent\n",
    "acts_df = acts_df.round()"
   ]
  },
  {
   "cell_type": "markdown",
   "id": "cc0deeb5",
   "metadata": {},
   "source": [
    "# Now that data is consistent, will write to csv and use from here on out"
   ]
  },
  {
   "cell_type": "code",
   "execution_count": 119,
   "id": "e6b7be4a",
   "metadata": {},
   "outputs": [],
   "source": [
    "# activity summary\n",
    "acts_df.to_csv(\"apple_health_export/activitysummary.csv\")"
   ]
  },
  {
   "cell_type": "code",
   "execution_count": 120,
   "id": "ef82f612",
   "metadata": {},
   "outputs": [],
   "source": [
    "# will also write all health records to csv, but note that it is not clean\n",
    "all_records.to_csv(\"apple_health_export/all_records.csv\")"
   ]
  }
 ],
 "metadata": {
  "kernelspec": {
   "display_name": "Python 3 (ipykernel)",
   "language": "python",
   "name": "python3"
  },
  "language_info": {
   "codemirror_mode": {
    "name": "ipython",
    "version": 3
   },
   "file_extension": ".py",
   "mimetype": "text/x-python",
   "name": "python",
   "nbconvert_exporter": "python",
   "pygments_lexer": "ipython3",
   "version": "3.9.5"
  }
 },
 "nbformat": 4,
 "nbformat_minor": 5
}
